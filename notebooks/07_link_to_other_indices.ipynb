{
 "cells": [
  {
   "cell_type": "markdown",
   "id": "9e9ca1b4",
   "metadata": {},
   "source": [
    "## 9 Links to Other Indices\n",
    "\n",
    "In this  step, I benchmark my **CSIAI** composite index against three established, publicly‐traded ETFs that capture very similar investment themes:\n",
    "\n",
    "- **SPY** (SPDR S&P 500 ETF): the broad U.S. market proxy.  \n",
    "- **QUAL** (iShares S&P 500 Quality Factor ETF): focuses on “quality” metrics (profitability, low leverage).  \n",
    "- **MTUM** (iShares Edge MSCI USA Momentum Factor ETF): represents momentum exposure similar to the Growth potential of CSIAI.\n",
    "\n",
    "I download each ETF’s adjusted close price from **2023-01-01** (the same start date as my stock data) through **2025-05-06**. Then I compute daily returns and cumulative performance, then plot them together. "
   ]
  },
  {
   "cell_type": "code",
   "execution_count": null,
   "id": "9c1285f6",
   "metadata": {},
   "outputs": [],
   "source": [
    "import pandas as pd, yfinance as yf, numpy as np\n",
    "from pathlib import Path\n",
    "\n",
    "ROOT     = Path(\"..\")\n",
    "ARTIFACT = ROOT / \"artifacts\"\n",
    "PROC_DIR = ROOT / \"data\" / \"processed\"\n",
    "SCORES   = PROC_DIR / \"ci_scores.parquet\"\n",
    "PRICES   = PROC_DIR / \"raw\" / \"prices\"\n",
    "BENCH_DIR = ARTIFACT / \"benchmarks\"\n",
    "BENCH_DIR.mkdir(parents=True, exist_ok=True)\n",
    "\n",
    "scores = pd.read_parquet(SCORES)[\"CI_pca_lin\"]\n",
    "\n",
    "tickers = scores.index.tolist()\n",
    "\n",
    "px = pd.concat(\n",
    "    {t: pd.read_parquet(PRICES / f\"{t}.parquet\")[\"Adj Close\"]\n",
    "     for t in tickers},\n",
    "    axis=1\n",
    ").dropna(how=\"all\")\n",
    "\n",
    "px = px.loc[\"2023-01-01\":]\n",
    "\n",
    "#  using the month start date for rebalancing\n",
    "rebal_dates = (\n",
    "    px.resample(\"MS\").first().index \n",
    ")\n",
    "\n",
    "weights = {}\n",
    "for d in rebal_dates:\n",
    "    top_decile = scores.nlargest(int(0.1*len(scores))).index\n",
    "    weights[d] = pd.Series(1/len(top_decile), index=top_decile)\n",
    "\n",
    "rets = px.pct_change().fillna(0)\n",
    "\n",
    "w_df = pd.DataFrame(weights).ffill().reindex_like(rets).fillna(0)\n",
    "port_ret = (w_df * rets).sum(axis=1)\n",
    "port_ret.to_csv(BENCH_DIR / \"csiai_portfolio_returns.csv\")\n",
    "\n",
    "port_cum = (1+port_ret).cumprod().rename(\"CSIAI_Port\")\n",
    "\n",
    "print(\"CSIAI portfolio series saved.\")\n"
   ]
  },
  {
   "cell_type": "code",
   "execution_count": null,
   "id": "a172fae7",
   "metadata": {},
   "outputs": [],
   "source": [
    "import matplotlib.pyplot as plt\n",
    "\n",
    "cum_returns = (1 + returns).cumprod()\n",
    "\n",
    "cum_returns.to_csv(OUT_DIR / \"benchmark_cum_returns.csv\")\n",
    "\n",
    "# plot\n",
    "plt.figure(figsize=(10,6))\n",
    "for ticker in cum_returns.columns:\n",
    "    plt.plot(cum_returns.index, cum_returns[ticker], label=ticker)\n",
    "plt.title(\"Cumulative Returns: SPY vs QUAL vs MTUM\\n(2023-01-01 to today)\")\n",
    "plt.xlabel(\"Date\")\n",
    "plt.ylabel(\"Cumulative Return\")\n",
    "plt.legend()\n",
    "plt.tight_layout()\n",
    "FIG_DIR = Path(\"..\") / \"artifacts\" / \"figures\" / \"benchmarks\"\n",
    "FIG_DIR.mkdir(parents=True, exist_ok=True)\n",
    "plt.savefig(FIG_DIR / \"benchmark_cum_returns.png\", dpi=300)\n",
    "plt.show()"
   ]
  }
 ],
 "metadata": {
  "kernelspec": {
   "display_name": "venv",
   "language": "python",
   "name": "python3"
  },
  "language_info": {
   "name": "python",
   "version": "3.9.6"
  }
 },
 "nbformat": 4,
 "nbformat_minor": 5
}
