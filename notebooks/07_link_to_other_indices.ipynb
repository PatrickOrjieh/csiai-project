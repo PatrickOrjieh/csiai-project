{
 "cells": [
  {
   "cell_type": "markdown",
   "id": "9e9ca1b4",
   "metadata": {},
   "source": [
    "## 9 Links to Other Indices\n",
    "\n",
    "In this  step, I benchmark my **CSIAI** composite index against three established, publicly‐traded ETFs that capture very similar investment themes:\n",
    "\n",
    "- **SPY** (SPDR S&P 500 ETF): the broad U.S. market proxy.  \n",
    "- **QUAL** (iShares S&P 500 Quality Factor ETF): focuses on “quality” metrics (profitability, low leverage).  \n",
    "- **MTUM** (iShares Edge MSCI USA Momentum Factor ETF): represents momentum exposure similar to the Growth potential of CSIAI.\n",
    "\n",
    "I download each ETF’s adjusted close price from **2023-01-01** (the same start date as my stock data) through **2025-05-06**. Then I compute daily returns and cumulative performance, then plot them together. "
   ]
  },
  {
   "cell_type": "code",
   "execution_count": null,
   "id": "9c1285f6",
   "metadata": {},
   "outputs": [],
   "source": [
    "import yfinance as yf\n",
    "import pandas as pd\n",
    "from pathlib import Path\n",
    "\n",
    "START = \"2023-01-01\"\n",
    "END   = \"2025-05-06\"\n",
    "INDICES = [\"SPY\", \"QUAL\", \"MTUM\"]\n",
    "\n",
    "prices = (\n",
    "    yf.download(INDICES, start=START, end=END, progress=False)\n",
    "      [\"Adj Close\"]\n",
    "      .dropna(how=\"all\")\n",
    ")\n",
    "\n",
    "# create output directory\n",
    "OUT_DIR = Path(\"..\") / \"data\" / \"processed\" / \"benchmarks\"\n",
    "OUT_DIR.mkdir(parents=True, exist_ok=True)\n",
    "\n",
    "# save raw prices and returns\n",
    "prices.to_csv(OUT_DIR / \"benchmark_prices.csv\")\n",
    "\n",
    "returns = prices.pct_change().dropna()\n",
    "returns.to_csv(OUT_DIR / \"benchmark_returns.csv\")"
   ]
  }
 ],
 "metadata": {
  "kernelspec": {
   "display_name": "venv",
   "language": "python",
   "name": "python3"
  },
  "language_info": {
   "name": "python",
   "version": "3.9.6"
  }
 },
 "nbformat": 4,
 "nbformat_minor": 5
}
