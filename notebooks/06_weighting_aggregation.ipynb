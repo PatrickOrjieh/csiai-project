{
 "cells": [
  {
   "cell_type": "markdown",
   "id": "637d47e4",
   "metadata": {},
   "source": [
    "# 6 Weighting & Aggregation\n",
    "\n",
    "> *“Weight assignment is one of the most important steps in composite indicator*\n",
    "\n",
    "I now have **21 normalised indicators** (after dropping the nine redundant ones).  Following the guidance in the handbook I will test **two transparent weighting schemes**:\n",
    "\n",
    "| scheme | logic | compensability | why I include it |\n",
    "|--------|-------|----------------|------------------|\n",
    "| **Equal-by-pillar** | Each of the five pillars gets 20 %.<br>Inside a pillar the share is split equally. | fully compensatory | baseline that respects the theoretical balance of sub indices |\n",
    "| **PCA-variance** | Weight<sub>q</sub> ∝ Σ<sub>j</sub> λ<sub>j</sub> · loading<sub>qj</sub><sup>2</sup>. | data-driven, still linear | rewards indicators that explain more common variance |\n",
    "\n",
    "\n",
    "## 6.1 Equal weights by group\n",
    "\n",
    "The equal-indicator approach (1 ÷ 21 ≈ 0.0476) *over-weights* sub indicators with many indicators. I instead give **each group 20 %**, then divide that share by the number of indicators\n",
    "inside the group:"
   ]
  },
  {
   "cell_type": "code",
   "execution_count": 1,
   "id": "b6e32bdf",
   "metadata": {},
   "outputs": [
    {
     "name": "stdout",
     "output_type": "stream",
     "text": [
      "Group: financial_strength, Share: 0.04\n",
      "Group: growth_potential, Share: 0.06666666666666667\n",
      "Group: market_performance, Share: 0.05\n",
      "Group: risk_volatility, Share: 0.04\n",
      "Group: liquidity_trading, Share: 0.05\n"
     ]
    }
   ],
   "source": [
    "import pandas as pd\n",
    "import numpy as np\n",
    "from pathlib import Path\n",
    "\n",
    "ROOT   = Path(\"..\")\n",
    "PROC   = ROOT / \"data\" / \"processed\"\n",
    "ART    = ROOT / \"artifacts\" / \"weights\"\n",
    "ART.mkdir(parents=True, exist_ok=True)\n",
    "\n",
    "df = pd.read_parquet(PROC / \"csiai_input_normalized.parquet\")\n",
    "if \"ticker\" in df.columns:\n",
    "    df = df.set_index(\"ticker\")\n",
    "\n",
    "GROUPS = {\n",
    "    \"financial_strength\": [\"roe\",\"debt_to_equity\",\"current_ratio\",\n",
    "                           \"oper_cash_flow\",\"ebitda_margin\"],\n",
    "    \"growth_potential\":   [\"revenue_growth\",\"operating_margin\",\"gross_margin\"],\n",
    "    \"market_performance\": [\"eps\",\"market_cap\",\"price_to_sales\",\"payout_ratio\"],\n",
    "    \"risk_volatility\":    [\"hist_volatility\",\"beta\",\"max_drawdown\",\n",
    "                           \"stddev_returns\",\"value_at_risk\"],\n",
    "    \"liquidity_trading\":  [\"avg_volume_30d\",\"bid_ask_spread\",\"volume_growth\",\n",
    "                           \"float_shares\"],\n",
    "}\n",
    "\n",
    "# equal-by-group weights\n",
    "w_equal = {}\n",
    "for group, cols in GROUPS.items():\n",
    "    share = 0.20 / len(cols)\n",
    "    print(f\"Group: {group}, Share: {share}\")\n",
    "    w_equal.update({c: share for c in cols})\n",
    "\n",
    "w_equal = pd.Series(w_equal, name=\"w_equal_group\")\n",
    "w_equal.to_csv(ART / \"weights_equal_group.csv\")"
   ]
  }
 ],
 "metadata": {
  "kernelspec": {
   "display_name": "venv",
   "language": "python",
   "name": "python3"
  },
  "language_info": {
   "codemirror_mode": {
    "name": "ipython",
    "version": 3
   },
   "file_extension": ".py",
   "mimetype": "text/x-python",
   "name": "python",
   "nbconvert_exporter": "python",
   "pygments_lexer": "ipython3",
   "version": "3.9.6"
  }
 },
 "nbformat": 4,
 "nbformat_minor": 5
}
