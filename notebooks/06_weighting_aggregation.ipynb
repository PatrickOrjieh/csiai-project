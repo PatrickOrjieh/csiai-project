{
 "cells": [
  {
   "cell_type": "markdown",
   "id": "637d47e4",
   "metadata": {},
   "source": [
    "# 6 Weighting & Aggregation\n",
    "\n",
    "> *“Weight assignment is one of the most important steps in composite indicator*\n",
    "\n",
    "I now have **21 normalised indicators** (after dropping the nine redundant ones).  Following the guidance in the handbook I will test **two transparent weighting schemes**:\n",
    "\n",
    "| scheme | logic | compensability | why I include it |\n",
    "|--------|-------|----------------|------------------|\n",
    "| **Equal-by-group** | Each of the five groups gets 20 %.<br>Inside a group the share is split equally. | fully compensatory | baseline that respects the theoretical balance of sub indices |\n",
    "| **PCA-variance** | Weight<sub>q</sub> ∝ Σ<sub>j</sub> λ<sub>j</sub> · loading<sub>qj</sub><sup>2</sup>. | data-driven, still linear | rewards indicators that explain more common variance |\n",
    "\n",
    "\n",
    "## 6.1 Equal weights by group\n",
    "\n",
    "The equal-indicator approach (1 ÷ 21 ≈ 0.0476) *over-weights* sub indicators with many indicators. I instead give **each group 20 %**, then divide that share by the number of indicators\n",
    "inside the group:"
   ]
  },
  {
   "cell_type": "code",
   "execution_count": 3,
   "id": "b6e32bdf",
   "metadata": {},
   "outputs": [
    {
     "name": "stdout",
     "output_type": "stream",
     "text": [
      "Group: financial_strength, Share: 0.04\n",
      "Group: growth_potential, Share: 0.06666666666666667\n",
      "Group: market_performance, Share: 0.05\n",
      "Group: risk_volatility, Share: 0.04\n",
      "Group: liquidity_trading, Share: 0.05\n"
     ]
    }
   ],
   "source": [
    "import pandas as pd\n",
    "import numpy as np\n",
    "from pathlib import Path\n",
    "\n",
    "ROOT   = Path(\"..\")\n",
    "PROC   = ROOT / \"data\" / \"processed\"\n",
    "ART    = ROOT / \"artifacts\" / \"weights\"\n",
    "ART.mkdir(parents=True, exist_ok=True)\n",
    "\n",
    "df = pd.read_parquet(PROC / \"csiai_input_normalized.parquet\")\n",
    "if \"ticker\" in df.columns:\n",
    "    df = df.set_index(\"ticker\")\n",
    "\n",
    "GROUPS = {\n",
    "    \"financial_strength\": [\"roe\",\"debt_to_equity\",\"current_ratio\",\n",
    "                           \"oper_cash_flow\",\"ebitda_margin\"],\n",
    "    \"growth_potential\":   [\"revenue_growth\",\"operating_margin\",\"gross_margin\"],\n",
    "    \"market_performance\": [\"eps\",\"market_cap\",\"price_to_sales\",\"payout_ratio\"],\n",
    "    \"risk_volatility\":    [\"hist_volatility\",\"beta\",\"max_drawdown\",\n",
    "                           \"stddev_returns\",\"value_at_risk\"],\n",
    "    \"liquidity_trading\":  [\"avg_volume_30d\",\"bid_ask_spread\",\"volume_growth\",\n",
    "                           \"float_shares\"],\n",
    "}\n",
    "\n",
    "# equal-by-group weights\n",
    "w_equal = {}\n",
    "for group, cols in GROUPS.items():\n",
    "    share = 0.20 / len(cols)\n",
    "    print(f\"Group: {group}, Share: {share}\")\n",
    "    w_equal.update({c: share for c in cols})\n",
    "\n",
    "w_equal = pd.Series(w_equal, name=\"w_equal_group\")\n",
    "w_equal.to_csv(ART / \"weights_equal_group.csv\")"
   ]
  },
  {
   "cell_type": "markdown",
   "id": "f63d6d00",
   "metadata": {},
   "source": [
    "### 6.2 PCA-variance weights\n",
    "\n",
    "For every group I ran a PCA in the multivariate notebook and compute each indicator’s importance as the **variance it contributes** across the retained components:\n",
    "\n",
    "- **Financial Strength, Growth Potential, Market Performance, Liquidity & Trading**  \n",
    "  These sub-indices have their variance spread fairly evenly across multiple components (PC1 ≈ 25–35 %, PC2 ≈ 20–30 %, PC3 ≈ 15–30 %, and more).  To capture their full multi-dimensional structure, i weight each variable by  \n",
    "  \\[\n",
    "    w_q \\;=\\;\\sum_{j=1}^k \\lambda_j \\, L_{qj}^2\n",
    "  \\]  \n",
    "  where \\(L_{qj}\\) is the loading of variable \\(q\\) on PC \\(j\\), and \\(\\lambda_j\\) is the variance explained by PC \\(j\\).  I then normalize so each group’s weights sum to 0.20.\n",
    "\n",
    "- **Risk & Volatility**  \n",
    "  Here PC 1 alone explains a dominant share (~63 %) of the total variance; the remaining PCs each contribute < 20 %.  In this case using **only the first component** is both simpler and nearly lossless, so we set  \n",
    "  \\[\n",
    "    w_q \\;=\\; L_{q,\\text{PC1}}^2\n",
    "  \\]  \n",
    "  and normalize those squared PC 1 loadings to sum to 0.20."
   ]
  },
  {
   "cell_type": "code",
   "execution_count": null,
   "id": "ea21973b",
   "metadata": {},
   "outputs": [
    {
     "name": "stdout",
     "output_type": "stream",
     "text": [
      "✓ PCA-variance weights saved → ../artifacts/weights/weights_pca_variance.csv\n"
     ]
    }
   ],
   "source": [
    "from sklearn.preprocessing import MinMaxScaler\n",
    "from scipy.stats import gmean\n",
    "\n",
    "PCA_DIR = ROOT / \"artifacts\" / \"pca\"\n",
    "\n",
    "def pca_weights(group: str, share: float = 0.20) -> pd.Series:\n",
    "    L = pd.read_csv(PCA_DIR / f\"{group}_loadings.csv\", index_col=0)\n",
    "\n",
    "    if group == \"risk_volatility\":\n",
    "        w_raw = L[\"PC1\"].pow(2)\n",
    "    else:\n",
    "        evr = (\n",
    "            pd.read_csv(PCA_DIR / f\"{group}_explained_variance.csv\",\n",
    "                        header=None, index_col=0)\n",
    "              .iloc[:, 0]\n",
    "        )\n",
    "\n",
    "        evr.index = [f\"PC{i+1}\" for i in range(len(evr))]\n",
    "        evr = evr.reindex(L.columns)\n",
    "\n",
    "        w_raw = (L.pow(2).mul(evr, axis=1)).sum(axis=1)\n",
    "\n",
    "    return share * w_raw / w_raw.sum()\n",
    "\n",
    "weights_pca = (pd.concat([pca_weights(g) for g in GROUPS], axis=0).rename(\"w_pca_var\"))\n",
    "\n",
    "weights_pca.to_csv(ART / \"weights_pca_variance.csv\")\n",
    "print(\"PCA-variance weights saved: \", ART / \"weights_pca_variance.csv\")"
   ]
  }
 ],
 "metadata": {
  "kernelspec": {
   "display_name": "venv",
   "language": "python",
   "name": "python3"
  },
  "language_info": {
   "codemirror_mode": {
    "name": "ipython",
    "version": 3
   },
   "file_extension": ".py",
   "mimetype": "text/x-python",
   "name": "python",
   "nbconvert_exporter": "python",
   "pygments_lexer": "ipython3",
   "version": "3.9.6"
  }
 },
 "nbformat": 4,
 "nbformat_minor": 5
}
