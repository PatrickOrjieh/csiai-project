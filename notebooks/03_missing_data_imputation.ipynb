{
 "cells": [
  {
   "cell_type": "markdown",
   "id": "384724c0",
   "metadata": {},
   "source": [
    "# 3  Missing-Data Imputation  \n",
    "\n",
    "> “Missing values should be handled carefully to avoid biased results.” — Gotten from the OECD Handbook on Composite Indicators\n",
    "\n",
    "It is without doubt that there will be missing data in any financial dataset just like the Russell 3000 universe which could be caused by late filings, thin traded days and IPO - Investment Blackout periods.\n",
    "\n",
    "In this notebook  I will:\n",
    "\n",
    "1. Diagnose the missingness pattern\n",
    "2. Choose methods that balance robustness and runtime\n",
    "3. Generate *five multiply-imputed* fundamental data sets (MICE)\n",
    "4. Forward-fill price-series gaps\n",
    "5. Save artefacts "
   ]
  }
 ],
 "metadata": {
  "language_info": {
   "name": "python"
  }
 },
 "nbformat": 4,
 "nbformat_minor": 5
}
